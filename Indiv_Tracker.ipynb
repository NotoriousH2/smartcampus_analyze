{
 "cells": [
  {
   "cell_type": "code",
   "execution_count": 47,
   "metadata": {},
   "outputs": [],
   "source": [
    "import pandas as pd\n",
    "import os\n",
    "\n",
    "import math\n",
    "from collections import Counter"
   ]
  },
  {
   "cell_type": "code",
   "execution_count": 39,
   "metadata": {},
   "outputs": [],
   "source": [
    "\n",
    "Data=pd.read_csv('./Experiment_Attendance.txt')"
   ]
  },
  {
   "cell_type": "code",
   "execution_count": 15,
   "metadata": {},
   "outputs": [],
   "source": [
    "def get_Day(date):\n",
    "    Days=['월','화','수','목','금','토','일']\n",
    "    M=int(date[0:2])\n",
    "    D=int(date[2:])\n",
    "    if M==11: D+=31\n",
    "    if M==12: D+=61\n",
    "    return Days[(D-22)%7];"
   ]
  },
  {
   "cell_type": "code",
   "execution_count": 101,
   "metadata": {},
   "outputs": [],
   "source": [
    "def get_elementwise_sim(routine1,routine2):\n",
    "    sim=0\n",
    "    for i in range(len(routine1)):\n",
    "        for j in routine1[i].keys():\n",
    "            sim+=routine2[i][j]*routine1[i][j]\n",
    "    return sim/len(routine1)"
   ]
  },
  {
   "cell_type": "markdown",
   "metadata": {},
   "source": [
    "# 2. Sequence화 ( 144 Seq for One day)\n",
    "User * Date * Seq[144] \n",
    "\n",
    "0:0~10, 1:10:01~11:00, ... \n",
    "\n",
    "Row Data : 2018-10-22 08:50:58,GWANJUNG1,SC00062,-85 => 530:58 => [53]"
   ]
  },
  {
   "cell_type": "code",
   "execution_count": null,
   "metadata": {},
   "outputs": [],
   "source": []
  },
  {
   "cell_type": "code",
   "execution_count": 83,
   "metadata": {
    "scrolled": true
   },
   "outputs": [],
   "source": [
    "Day_Weight={'월':1,'화':1,'수':1,'목':1,'금':1,'토':10,'일':10}\n",
    "Categories=dict()\n",
    "Categories={\n",
    "    '33-331':1,'33-330':1,'33-328':1,'33-327':1,\n",
    "    '33-231':1,'33-230':1,'33-229':1,'33-228':1,'33-226':1,'33-225':1,\n",
    "    '33-B1L':3,\n",
    "    '43-1':4,\n",
    "    'BONGUS':5,\n",
    "    'MugOut':6,'Muginside':6,\n",
    "    'Gym':7,\n",
    "    'HH1':8,'HH2':8,'HH3':8,\n",
    "    'GWANJUNG1':9,'Gwanjung2':9,'GWANJUNG3':9,'Gwanjung3':9,'GWANJUNG1':9,\n",
    "    'CU':10,\n",
    "    'BBQ':11,\n",
    "    'Sinyang3':12,\n",
    "    'Doodam3':13,\n",
    "    'Doodam4':14,\n",
    "    'Doodam':15,\n",
    "    'Haedong':16\n",
    "}"
   ]
  },
  {
   "cell_type": "code",
   "execution_count": 68,
   "metadata": {},
   "outputs": [
    {
     "name": "stdout",
     "output_type": "stream",
     "text": [
      "48\n"
     ]
    }
   ],
   "source": [
    "timegaps=600 # 10 Minutes \n",
    "user_daily_routine=[]\n",
    "for i in range(100):\n",
    "    user_daily_routine.append([])\n",
    "    for j in range(50):\n",
    "        user_daily_routine[-1].append([])\n",
    "        for k in range(int(86400/timegaps)+1):\n",
    "            user_daily_routine[-1][-1].append(0)\n",
    "\n",
    "all_files=os.listdir(\"./Raw/\")\n",
    "txt_files=[];\n",
    "for X in all_files:\n",
    "    if X[-4:]=='.txt':\n",
    "        txt_files.append(X);\n",
    "print(len(txt_files))  # only text files"
   ]
  },
  {
   "cell_type": "code",
   "execution_count": 69,
   "metadata": {},
   "outputs": [
    {
     "data": {
      "text/plain": [
       "[Counter(),\n",
       " Counter(),\n",
       " Counter(),\n",
       " Counter(),\n",
       " Counter(),\n",
       " Counter(),\n",
       " Counter(),\n",
       " Counter(),\n",
       " Counter(),\n",
       " Counter(),\n",
       " Counter(),\n",
       " Counter(),\n",
       " Counter(),\n",
       " Counter(),\n",
       " Counter(),\n",
       " Counter(),\n",
       " Counter(),\n",
       " Counter(),\n",
       " Counter(),\n",
       " Counter(),\n",
       " Counter(),\n",
       " Counter(),\n",
       " Counter(),\n",
       " Counter(),\n",
       " Counter(),\n",
       " Counter(),\n",
       " Counter(),\n",
       " Counter(),\n",
       " Counter(),\n",
       " Counter(),\n",
       " Counter(),\n",
       " Counter(),\n",
       " Counter(),\n",
       " Counter(),\n",
       " Counter(),\n",
       " Counter(),\n",
       " Counter(),\n",
       " Counter(),\n",
       " Counter(),\n",
       " Counter(),\n",
       " Counter(),\n",
       " Counter(),\n",
       " Counter(),\n",
       " Counter(),\n",
       " Counter(),\n",
       " Counter(),\n",
       " Counter(),\n",
       " Counter(),\n",
       " Counter(),\n",
       " Counter(),\n",
       " Counter(),\n",
       " Counter(),\n",
       " Counter(),\n",
       " Counter(),\n",
       " Counter(),\n",
       " Counter({1: 1.0}),\n",
       " Counter({1: 1.0}),\n",
       " Counter({1: 1.0}),\n",
       " Counter({1: 1.0}),\n",
       " Counter({1: 1.0}),\n",
       " Counter({1: 1.0}),\n",
       " Counter({1: 1.0}),\n",
       " Counter({1: 1.0}),\n",
       " Counter({1: 1.0}),\n",
       " Counter({1: 1.0}),\n",
       " Counter({1: 1.0}),\n",
       " Counter({1: 1.0}),\n",
       " Counter({1: 1.0}),\n",
       " Counter({1: 1.0}),\n",
       " Counter({1: 1.0}),\n",
       " Counter({1: 1.0}),\n",
       " Counter({1: 1.0}),\n",
       " Counter({1: 1.0}),\n",
       " Counter({1: 1.0}),\n",
       " Counter({1: 1.0}),\n",
       " Counter(),\n",
       " Counter(),\n",
       " Counter(),\n",
       " Counter(),\n",
       " Counter(),\n",
       " Counter(),\n",
       " Counter(),\n",
       " Counter(),\n",
       " Counter(),\n",
       " Counter(),\n",
       " Counter(),\n",
       " Counter(),\n",
       " Counter(),\n",
       " Counter(),\n",
       " Counter(),\n",
       " Counter(),\n",
       " Counter(),\n",
       " Counter(),\n",
       " Counter(),\n",
       " Counter(),\n",
       " Counter(),\n",
       " Counter(),\n",
       " Counter(),\n",
       " Counter(),\n",
       " Counter({1: 1.0}),\n",
       " Counter(),\n",
       " Counter(),\n",
       " Counter(),\n",
       " Counter(),\n",
       " Counter(),\n",
       " Counter(),\n",
       " Counter(),\n",
       " Counter(),\n",
       " Counter(),\n",
       " Counter(),\n",
       " Counter(),\n",
       " Counter(),\n",
       " Counter(),\n",
       " Counter(),\n",
       " Counter(),\n",
       " Counter(),\n",
       " Counter(),\n",
       " Counter(),\n",
       " Counter(),\n",
       " Counter({9: 1.0}),\n",
       " Counter(),\n",
       " Counter(),\n",
       " Counter(),\n",
       " Counter(),\n",
       " Counter({9: 1.0}),\n",
       " Counter(),\n",
       " Counter(),\n",
       " Counter(),\n",
       " Counter(),\n",
       " Counter({9: 1.0}),\n",
       " Counter(),\n",
       " Counter(),\n",
       " Counter(),\n",
       " Counter(),\n",
       " Counter(),\n",
       " Counter(),\n",
       " Counter(),\n",
       " Counter(),\n",
       " Counter(),\n",
       " Counter(),\n",
       " Counter(),\n",
       " Counter(),\n",
       " Counter(),\n",
       " Counter()]"
      ]
     },
     "execution_count": 69,
     "metadata": {},
     "output_type": "execute_result"
    }
   ],
   "source": [
    "X=extract_routine('./Raw/1022dump.txt','SC00094',600)\n",
    "X"
   ]
  },
  {
   "cell_type": "code",
   "execution_count": 76,
   "metadata": {},
   "outputs": [],
   "source": [
    "def extract_routine(source,S,Interval):\n",
    "    length=int(86400/Interval)\n",
    "    routine=[]\n",
    "    for i in range(length+1):\n",
    "        routine.append(Counter())\n",
    "    for X in open(source,'r').readlines():\n",
    "        if S not in X : continue\n",
    "        place=X.split(',')[1]\n",
    "        hour,minute,second=map(int,X.split(',')[0].split(' ')[1].split(':'))\n",
    "        try:\n",
    "            routine[math.ceil((hour*3600+minute*60+second)/Interval)][Categories[place]]+=1\n",
    "        except:\n",
    "            print(X)\n",
    "    # routine : Counter의 집합, 각 Counter : [Category, 신호수]\n",
    "    # TODO : [1:80% 2,20%] VS [1:20%, 3:60%, 2:20%] -> 0.2+0.2 = 0.4 or \n",
    "    # 맥스로 하면 좋은점: 쉬움\n",
    "    # 확률곱으로 하면 좋은점 : 좀더 자세함/ 한친구가 늦게오면? 확률곱이 더 좋은데 \n",
    "    # 확률곱으로 하자! (행동패턴이 복잡한것도 캐치가능 Ex 수업->봉구스->수업)\n",
    "    normalized_routine=[]\n",
    "    for t in routine:\n",
    "        total=sum(t.values())\n",
    "        for x in t.keys():\n",
    "            t[x]=t[x]/total\n",
    "        normalized_routine.append(t)\n",
    "    return normalized_routine\n",
    "    "
   ]
  },
  {
   "cell_type": "markdown",
   "metadata": {},
   "source": [
    "> Read 하고 10분간의 데이터 모아서 가장 높은 애로 선택(Counter) 하기\n",
    "\n",
    "> Seq Index로 Iter, Counter 만들어서 카테고리 값 추가"
   ]
  },
  {
   "cell_type": "code",
   "execution_count": 79,
   "metadata": {},
   "outputs": [],
   "source": [
    "Days=[]\n",
    "txt_files.sort()\n",
    "for Target in range(10,99):\n",
    "    S='SC000'+str(Target)\n",
    "    for i in range(len(txt_files)):\n",
    "        if Target==10: Days.append(get_Day(txt_files[i][0:4]))\n",
    "#        print(txt_files[i],get_Day(txt_files[i][0:4]))\n",
    "        user_daily_routine[Target][i]=extract_routine('./Raw/'+txt_files[i],S,timegaps)\n"
   ]
  },
  {
   "cell_type": "code",
   "execution_count": 103,
   "metadata": {},
   "outputs": [
    {
     "name": "stdout",
     "output_type": "stream",
     "text": [
      "10 between 14 : 0.027586\n",
      "10 between 15 : 0.071141\n",
      "10 between 17 : 0.096552\n",
      "10 between 18 : 0.003161\n",
      "10 between 22 : 0.020690\n",
      "10 between 23 : 0.003161\n",
      "10 between 26 : 0.089655\n",
      "10 between 28 : 0.089655\n",
      "10 between 29 : 0.045436\n",
      "10 between 31 : 0.089655\n",
      "10 between 32 : 0.041379\n",
      "10 between 33 : 0.052896\n",
      "10 between 34 : 0.027586\n",
      "10 between 35 : 0.060064\n",
      "10 between 36 : 0.016804\n",
      "10 between 37 : 0.029023\n",
      "10 between 38 : 0.027586\n",
      "10 between 42 : 0.092619\n",
      "10 between 43 : 0.000208\n",
      "10 between 44 : 0.048440\n",
      "10 between 45 : 0.027586\n",
      "10 between 46 : 0.022473\n",
      "10 between 47 : 0.026820\n",
      "10 between 48 : 0.027586\n",
      "10 between 53 : 0.033251\n",
      "10 between 56 : 0.089655\n",
      "10 between 57 : 0.027586\n",
      "10 between 58 : 0.006897\n",
      "10 between 60 : 0.059306\n",
      "10 between 61 : 0.003502\n",
      "10 between 62 : 0.027586\n",
      "10 between 63 : 0.056399\n",
      "10 between 64 : 0.060338\n",
      "10 between 66 : 0.068719\n",
      "10 between 67 : 0.066980\n",
      "10 between 68 : 0.061741\n",
      "10 between 69 : 0.056426\n",
      "10 between 70 : 0.040802\n",
      "10 between 71 : 0.064312\n",
      "10 between 72 : 0.061928\n",
      "10 between 73 : 0.089655\n",
      "10 between 75 : 0.062069\n",
      "10 between 76 : 0.061976\n",
      "10 between 77 : 0.034483\n",
      "10 between 79 : 0.041379\n",
      "10 between 80 : 0.020690\n",
      "10 between 83 : 0.061638\n",
      "10 between 84 : 0.089489\n",
      "10 between 85 : 0.068582\n",
      "10 between 86 : 0.034304\n",
      "10 between 88 : 0.068966\n",
      "10 between 89 : 0.034688\n",
      "10 between 90 : 0.046345\n",
      "10 between 91 : 0.020690\n",
      "10 between 94 : 0.002634\n",
      "10 between 96 : 0.063457\n"
     ]
    }
   ],
   "source": [
    "T=15\n",
    "\n",
    "for i in range(10,99):\n",
    "    for j in range(i+1,99):\n",
    "        sim=get_elementwise_sim(user_daily_routine[i][T],user_daily_routine[j][T])\n",
    "        if sim!=0: \n",
    "            print(\"%d between %d : %lf\" %(i,j,get_elementwise_sim(user_daily_routine[i][T],user_daily_routine[j][T])))\n",
    "    break"
   ]
  },
  {
   "cell_type": "code",
   "execution_count": 85,
   "metadata": {
    "scrolled": true
   },
   "outputs": [
    {
     "data": {
      "text/plain": [
       "1"
      ]
     },
     "execution_count": 85,
     "metadata": {},
     "output_type": "execute_result"
    }
   ],
   "source": [
    "Day_Weight[Days[15]]"
   ]
  },
  {
   "cell_type": "code",
   "execution_count": null,
   "metadata": {},
   "outputs": [],
   "source": []
  }
 ],
 "metadata": {
  "kernelspec": {
   "display_name": "Python 3",
   "language": "python",
   "name": "python3"
  },
  "language_info": {
   "codemirror_mode": {
    "name": "ipython",
    "version": 3
   },
   "file_extension": ".py",
   "mimetype": "text/x-python",
   "name": "python",
   "nbconvert_exporter": "python",
   "pygments_lexer": "ipython3",
   "version": "3.5.2"
  }
 },
 "nbformat": 4,
 "nbformat_minor": 2
}
